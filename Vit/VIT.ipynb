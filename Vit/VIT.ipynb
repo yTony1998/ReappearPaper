{
 "cells": [
  {
   "cell_type": "markdown",
   "id": "e788e5ec",
   "metadata": {},
   "source": [
    "手写Vit"
   ]
  },
  {
   "cell_type": "code",
   "execution_count": 1,
   "id": "a9ed33bb",
   "metadata": {},
   "outputs": [
    {
     "name": "stderr",
     "output_type": "stream",
     "text": [
      "/home/b212/anaconda3/envs/pytorch_gpu/lib/python3.8/site-packages/tqdm/auto.py:22: TqdmWarning: IProgress not found. Please update jupyter and ipywidgets. See https://ipywidgets.readthedocs.io/en/stable/user_install.html\n",
      "  from .autonotebook import tqdm as notebook_tqdm\n"
     ]
    }
   ],
   "source": [
    "import torch\n",
    "import torch.nn as nn\n",
    "import torch.nn.functional as F"
   ]
  },
  {
   "cell_type": "code",
   "execution_count": 22,
   "id": "d9c3d620",
   "metadata": {},
   "outputs": [
    {
     "name": "stdout",
     "output_type": "stream",
     "text": [
      "tensor([9, 9])\n",
      "torch.Size([2, 3, 64, 64])\n",
      "torch.Size([192, 8])\n",
      "torch.Size([8, 3, 8, 8])\n",
      "True\n",
      "torch.Size([2, 64, 8])\n",
      "torch.Size([2, 64, 8])\n"
     ]
    }
   ],
   "source": [
    "def ImgToPatchNative(img, patch_size, weight):\n",
    "    output = F.unfold(img, kernel_size=patch_size, stride=patch_size).transpose(1, 2)\n",
    "    embedding = torch.matmul(output, weight)\n",
    "    return embedding\n",
    "    \n",
    "def ImgToPatchConv(img, kernel, stride):\n",
    "    conv_output = F.conv2d(img, kernel, stride=stride)\n",
    "    bs, oc, h, w = conv_output.shape\n",
    "    embedding = conv_output.reshape(bs, oc, h*w).transpose(1,2)\n",
    "    return embedding\n",
    "    \n",
    "    \n",
    "    \n",
    "bs, ic, h, w = 2, 3, 64, 64\n",
    "patch_size = 8\n",
    "model_dim = 8\n",
    "weight_h = ic*patch_size*patch_size\n",
    "label = torch.randint(10, (bs,))\n",
    "# print(label)\n",
    "\n",
    "img = torch.rand(bs, ic, h, w)\n",
    "weight = torch.rand(weight_h, model_dim, requires_grad=True)\n",
    "print(img.shape)\n",
    "print(weight.shape)\n",
    "output_native = ImgToPatchNative(img, patch_size, weight)\n",
    "\n",
    "#oc, ic, (size)\n",
    "kernel = weight.transpose(0,1).reshape(-1, ic, patch_size, patch_size)\n",
    "print(kernel.shape)\n",
    "output_conv = ImgToPatchConv(img, kernel, stride=8)\n",
    "# print(output_conv.shape)\n",
    "print(torch.allclose(output_native, output_conv))\n",
    "print(output_native.shape)\n",
    "print(output_conv.shape)"
   ]
  },
  {
   "cell_type": "code",
   "execution_count": 23,
   "id": "3a00b2d7",
   "metadata": {},
   "outputs": [
    {
     "name": "stdout",
     "output_type": "stream",
     "text": [
      "torch.Size([2, 65, 8])\n"
     ]
    }
   ],
   "source": [
    "#step2 prepared CLS token embedding\n",
    "cls_token_embedding = torch.rand(bs, 1, model_dim, requires_grad = True)\n",
    "token_embedding = torch.cat([cls_token_embedding, output_conv], dim = 1)\n",
    "print(token_embedding.shape)"
   ]
  },
  {
   "cell_type": "code",
   "execution_count": 24,
   "id": "497c1923",
   "metadata": {},
   "outputs": [],
   "source": [
    "max_num_token = 128\n",
    "#step3 add position embedding\n",
    "positon_embedding_table = torch.rand(max_num_token, model_dim, requires_grad = True)\n",
    "seq_len = token_embedding.shape[1]\n",
    "position_embedding = torch.tile(positon_embedding_table[:seq_len], [token_embedding.shape[0], 1, 1])\n",
    "token_embedding += position_embedding"
   ]
  },
  {
   "cell_type": "code",
   "execution_count": 25,
   "id": "98266eec",
   "metadata": {},
   "outputs": [
    {
     "name": "stdout",
     "output_type": "stream",
     "text": [
      "torch.Size([2, 65, 8])\n"
     ]
    },
    {
     "ename": "NameError",
     "evalue": "name 'num_class' is not defined",
     "output_type": "error",
     "traceback": [
      "\u001b[0;31m---------------------------------------------------------------------------\u001b[0m",
      "\u001b[0;31mNameError\u001b[0m                                 Traceback (most recent call last)",
      "Input \u001b[0;32mIn [25]\u001b[0m, in \u001b[0;36m<cell line: 7>\u001b[0;34m()\u001b[0m\n\u001b[1;32m      5\u001b[0m \u001b[38;5;28mprint\u001b[39m(out\u001b[38;5;241m.\u001b[39mshape)\n\u001b[1;32m      6\u001b[0m cls_token_output \u001b[38;5;241m=\u001b[39m out[:,\u001b[38;5;241m0\u001b[39m,:]\n\u001b[0;32m----> 7\u001b[0m linear_layer \u001b[38;5;241m=\u001b[39m nn\u001b[38;5;241m.\u001b[39mLinear(model_dim, \u001b[43mnum_class\u001b[49m)\n\u001b[1;32m      8\u001b[0m logits \u001b[38;5;241m=\u001b[39m linear_layer(cls_token_output)\n\u001b[1;32m      9\u001b[0m loss_fn \u001b[38;5;241m=\u001b[39m nn\u001b[38;5;241m.\u001b[39mCrossEntropyLoss()\n",
      "\u001b[0;31mNameError\u001b[0m: name 'num_class' is not defined"
     ]
    }
   ],
   "source": [
    "#step Transformer Layer\n",
    "encode_layer = nn.TransformerEncoderLayer(d_model=model_dim, nhead=8)\n",
    "transformer_encoder = nn.TransformerEncoder(encode_layer, num_layers=6)\n",
    "out = transformer_encoder(token_embedding)\n",
    "print(out.shape)\n",
    "cls_token_output = out[:,0,:]\n",
    "linear_layer = nn.Linear(model_dim, num_class)\n",
    "logits = linear_layer(cls_token_output)\n",
    "loss_fn = nn.CrossEntropyLoss()\n",
    "loss = loss_fn(logits,label)\n",
    "print(loss)"
   ]
  }
 ],
 "metadata": {
  "kernelspec": {
   "display_name": "pytorch_gpu",
   "language": "python",
   "name": "pytorch_gpu"
  },
  "language_info": {
   "codemirror_mode": {
    "name": "ipython",
    "version": 3
   },
   "file_extension": ".py",
   "mimetype": "text/x-python",
   "name": "python",
   "nbconvert_exporter": "python",
   "pygments_lexer": "ipython3",
   "version": "3.8.12"
  }
 },
 "nbformat": 4,
 "nbformat_minor": 5
}
