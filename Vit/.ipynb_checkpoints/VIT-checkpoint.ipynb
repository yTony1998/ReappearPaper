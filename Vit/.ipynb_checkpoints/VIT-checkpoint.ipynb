{
 "cells": [
  {
   "cell_type": "markdown",
   "id": "dc92dc34",
   "metadata": {},
   "source": [
    "手写Vit"
   ]
  },
  {
   "cell_type": "code",
   "execution_count": 1,
   "id": "a4f76b6d",
   "metadata": {},
   "outputs": [],
   "source": [
    "import torch\n",
    "import torch.nn as nn\n",
    "import torch.nn.functional as F"
   ]
  },
  {
   "cell_type": "code",
   "execution_count": 5,
   "id": "3670ac06",
   "metadata": {},
   "outputs": [
    {
     "name": "stdout",
     "output_type": "stream",
     "text": [
      "torch.Size([2, 3, 64, 64])\n",
      "torch.Size([192, 8])\n",
      "torch.Size([2, 64, 192])\n"
     ]
    }
   ],
   "source": [
    "def ImgToPatchNative(img, patch_size, weight):\n",
    "    output = F.unfold(img, kernel_size=patch_size, stride=patch_size).transpose(1, 2)\n",
    "    return torch.mm(output, weight)\n",
    "    \n",
    "def ImgToPatchConv():\n",
    "    pass\n",
    "\n",
    "bs, ic, h, w = 2, 3, 64, 64\n",
    "img = torch.rand(bs, ic, h, w)\n",
    "patch_size = 8\n",
    "model_dim = 8\n",
    "weight_h = ic*(h//patch_size)*(w//patch_size)\n",
    "weight = torch.rand(weight_h, model_dim, requires_grad=True)\n",
    "print(img.shape)\n",
    "print(weight.shape)\n",
    "output = ImgToPatchNative(img, patch_size, weight)"
   ]
  }
 ],
 "metadata": {
  "kernelspec": {
   "display_name": "pytorch_gpu",
   "language": "python",
   "name": "pytorch_gpu"
  },
  "language_info": {
   "codemirror_mode": {
    "name": "ipython",
    "version": 3
   },
   "file_extension": ".py",
   "mimetype": "text/x-python",
   "name": "python",
   "nbconvert_exporter": "python",
   "pygments_lexer": "ipython3",
   "version": "3.8.12"
  }
 },
 "nbformat": 4,
 "nbformat_minor": 5
}
