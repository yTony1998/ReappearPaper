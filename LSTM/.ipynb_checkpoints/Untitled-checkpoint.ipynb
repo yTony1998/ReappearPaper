{
 "cells": [
  {
   "cell_type": "code",
   "execution_count": 1,
   "id": "61013ccb",
   "metadata": {},
   "outputs": [],
   "source": [
    "import torch\n",
    "import torch.nn as nn"
   ]
  },
  {
   "cell_type": "code",
   "execution_count": 14,
   "id": "2bd6b80b",
   "metadata": {},
   "outputs": [
    {
     "name": "stdout",
     "output_type": "stream",
     "text": [
      "tensor([[[ 0.0009, -0.0547, -0.2468],\n",
      "         [-0.1161, -0.0975, -0.1596],\n",
      "         [-0.1372, -0.1323, -0.1379]],\n",
      "\n",
      "        [[-0.0529, -0.0406, -0.0500],\n",
      "         [-0.0169,  0.0008,  0.0691],\n",
      "         [-0.1009, -0.0772, -0.0245]]], grad_fn=<TransposeBackward0>)\n",
      "weight_ih_l0 torch.Size([20, 4])\n",
      "weight_hh_l0 torch.Size([20, 3])\n",
      "bias_ih_l0 torch.Size([20])\n",
      "bias_hh_l0 torch.Size([20])\n",
      "weight_hr_l0 torch.Size([3, 5])\n"
     ]
    }
   ],
   "source": [
    "bs, T, i_size, h_size = 2, 3, 4, 5\n",
    "proj_size = 3\n",
    "input = torch.randn(bs, T, i_size) #输入序列\n",
    "c0 = torch.randn(bs, h_size) #初始值，不需要训练\n",
    "h0 = torch.randn(bs, proj_size)\n",
    "\n",
    "#调用官方 LSMT api\n",
    "lstm_layer = nn.LSTM(i_size, h_size, batch_first = True, proj_size = proj_size)\n",
    "output, (h_final, c_final) = lstm_layer(input, (h0.unsqueeze(0), c0.unsqueeze(0)))\n",
    "print(output)\n",
    "for k, v in lstm_layer.named_parameters():\n",
    "    print(k, v.shape)"
   ]
  },
  {
   "cell_type": "code",
   "execution_count": 11,
   "id": "d449157c",
   "metadata": {},
   "outputs": [
    {
     "name": "stdout",
     "output_type": "stream",
     "text": [
      "tensor([[[ 0.3073, -0.0818, -0.3247, -0.1339, -0.0454],\n",
      "         [ 0.0115, -0.0052, -0.0490, -0.1998,  0.1117],\n",
      "         [ 0.2132,  0.0567, -0.0906, -0.2161,  0.0475]],\n",
      "\n",
      "        [[ 0.3088,  0.1451,  0.5611,  0.0116,  0.1632],\n",
      "         [ 0.1782,  0.0421,  0.2567, -0.0816,  0.2803],\n",
      "         [ 0.0659,  0.0565, -0.1242, -0.2200,  0.0616]]],\n",
      "       grad_fn=<TransposeBackward0>)\n",
      "tensor([[[ 0.3073, -0.0818, -0.3247, -0.1339, -0.0454],\n",
      "         [ 0.0115, -0.0052, -0.0490, -0.1998,  0.1117],\n",
      "         [ 0.2132,  0.0567, -0.0906, -0.2161,  0.0475]],\n",
      "\n",
      "        [[ 0.3088,  0.1451,  0.5611,  0.0116,  0.1632],\n",
      "         [ 0.1782,  0.0421,  0.2567, -0.0816,  0.2803],\n",
      "         [ 0.0659,  0.0565, -0.1242, -0.2200,  0.0616]]], grad_fn=<CopySlices>)\n"
     ]
    }
   ],
   "source": [
    "# 自己写一个LSTM\n",
    "def lstm_forward(input, initial_states, w_ih, w_hh, b_ih, b_hh, w_hr = None):\n",
    "    h0, c0 = initial_states \n",
    "    bs, T, i_size = input.shape\n",
    "    h_size = w_ih.shape[0] // i_size\n",
    "    \n",
    "    prev_h = h0\n",
    "    prev_c = c0\n",
    "    batch_w_ih = w_ih.unsqueeze(0).tile(bs, 1, 1) # [bs, 4*h_size, i_size]   \n",
    "    batch_w_hh = w_hh.unsqueeze(0).tile(bs, 1, 1) # [bs, 4*h_size, h_size]   \n",
    "    \n",
    "    if w_hr is not None:\n",
    "        p_size, _ = w_hr.shape\n",
    "        output_size = p_size\n",
    "        batch_w_hr = w_hr.unsqueeze(0).tile(bs, 1, 1) # bs p_size h_size\n",
    "    else:\n",
    "        output_size = h_size\n",
    "    output = torch.zeros(bs, T, output_size)#输出序列\n",
    "    \n",
    "    \n",
    "    for t in range(T):\n",
    "        x = input[:,t,:] #当前时刻的输入向量 [bs, i_size]\n",
    "        w_times_x = torch.bmm(batch_w_ih, x.unsqueeze(-1)) # bs, 4*h_size, 1\n",
    "        w_times_x = w_times_x.squeeze(-1) # bs, 4*h_size\n",
    "        \n",
    "        w_times_h_prev = torch.bmm(batch_w_hh, prev_h.unsqueeze(-1)) # bs, 4*h_size, 1\n",
    "        w_times_h_prev = w_times_h_prev.squeeze(-1) # bs, 4*h_size\n",
    "        \n",
    "        #分别计算输入门（i） 遗忘门(f) cell门(g) 输出门(o)\n",
    "        i_t = torch.sigmoid(w_times_x[:, :h_size] + w_times_h_prev[:, :h_size] + b_ih[:h_size] +b_hh[:h_size])\n",
    "        f_t = torch.sigmoid(w_times_x[:, h_size: 2*h_size] + w_times_h_prev[:, h_size:2*h_size] \\\n",
    "                            + b_ih[h_size:2*h_size] +b_hh[h_size:2*h_size])\n",
    "        g_t = torch.tanh(w_times_x[:, 2*h_size:3*h_size] + w_times_h_prev[:, 2*h_size:3*h_size] \\\n",
    "                            + b_ih[2*h_size:3*h_size] +b_hh[2*h_size:3*h_size])\n",
    "        o_t = torch.sigmoid(w_times_x[:, 3*h_size:4*h_size] + w_times_h_prev[:, 3*h_size:4*h_size] \\\n",
    "                            + b_ih[3*h_size:4*h_size] +b_hh[3*h_size:4*h_size])\n",
    "        \n",
    "        prev_c = f_t * prev_c + i_t * g_t\n",
    "        prev_h = o_t * torch.tanh(prev_c) # bs, h_size \n",
    "        \n",
    "        if w_hr is not None:\n",
    "            prev_h = torch.bmm(batch_w_hr, prev_h.unsqueeze(-1))\n",
    "            prev_h = prev_h.squeeze(-1)\n",
    "        \n",
    "        output[:, t, :] = prev_h\n",
    "    return output, (prev_h, prev_c)\n",
    "\n",
    "\n",
    "output_custom , (h_final_custom, c_final_custom) = lstm_forward(input, (h0, c0), lstm_layer.weight_ih_l0, lstm_layer.weight_hh_l0, lstm_layer.bias_ih_l0, lstm_layer.bias_hh_l0, lstm_layer.weight_hr_l0)\n",
    "        \n",
    "print(output)\n",
    "print(output_custom)"
   ]
  }
 ],
 "metadata": {
  "kernelspec": {
   "display_name": "pytorch_gpu",
   "language": "python",
   "name": "pytorch_gpu"
  },
  "language_info": {
   "codemirror_mode": {
    "name": "ipython",
    "version": 3
   },
   "file_extension": ".py",
   "mimetype": "text/x-python",
   "name": "python",
   "nbconvert_exporter": "python",
   "pygments_lexer": "ipython3",
   "version": "3.8.12"
  }
 },
 "nbformat": 4,
 "nbformat_minor": 5
}
